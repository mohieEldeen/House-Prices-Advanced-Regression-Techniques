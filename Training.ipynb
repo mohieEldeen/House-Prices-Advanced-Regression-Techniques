{
 "cells": [
  {
   "cell_type": "code",
   "execution_count": 1,
   "metadata": {},
   "outputs": [],
   "source": [
    "#importing the libraries\n",
    "import numpy as np\n",
    "import pandas as pd\n",
    "import matplotlib.pyplot as plt"
   ]
  },
  {
   "cell_type": "code",
   "execution_count": 2,
   "metadata": {},
   "outputs": [],
   "source": [
    "#reading the CSV files\n",
    "train=pd.read_csv('train_ready.csv')\n",
    "test=pd.read_csv('test_ready.csv')"
   ]
  },
  {
   "cell_type": "code",
   "execution_count": 3,
   "metadata": {},
   "outputs": [],
   "source": [
    "train.drop('Unnamed: 0',axis=1,inplace=True)\n",
    "test.drop('Unnamed: 0',axis=1,inplace=True)"
   ]
  },
  {
   "cell_type": "code",
   "execution_count": 4,
   "metadata": {},
   "outputs": [],
   "source": [
    "#specifing the Xs and y train\n",
    "train_X_all=train.iloc[:,:-1]\n",
    "train_y_all=train.iloc[:,-1]\n",
    "test_X_all=test.copy()"
   ]
  },
  {
   "cell_type": "code",
   "execution_count": 5,
   "metadata": {},
   "outputs": [
    {
     "name": "stderr",
     "output_type": "stream",
     "text": [
      "C:\\Users\\mohaiko\\Anaconda3\\lib\\site-packages\\sklearn\\preprocessing\\data.py:645: DataConversionWarning: Data with input dtype int64, float64 were all converted to float64 by StandardScaler.\n",
      "  return self.partial_fit(X, y)\n",
      "C:\\Users\\mohaiko\\Anaconda3\\lib\\site-packages\\sklearn\\base.py:464: DataConversionWarning: Data with input dtype int64, float64 were all converted to float64 by StandardScaler.\n",
      "  return self.fit(X, **fit_params).transform(X)\n",
      "C:\\Users\\mohaiko\\Anaconda3\\lib\\site-packages\\ipykernel_launcher.py:5: DataConversionWarning: Data with input dtype int64, float64 were all converted to float64 by StandardScaler.\n",
      "  \"\"\"\n",
      "C:\\Users\\mohaiko\\Anaconda3\\lib\\site-packages\\sklearn\\utils\\validation.py:595: DataConversionWarning: Data with input dtype int64 was converted to float64 by StandardScaler.\n",
      "  warnings.warn(msg, DataConversionWarning)\n",
      "C:\\Users\\mohaiko\\Anaconda3\\lib\\site-packages\\sklearn\\utils\\validation.py:595: DataConversionWarning: Data with input dtype int64 was converted to float64 by StandardScaler.\n",
      "  warnings.warn(msg, DataConversionWarning)\n"
     ]
    }
   ],
   "source": [
    "#scalling the data\n",
    "from sklearn.preprocessing import StandardScaler\n",
    "sc_X = StandardScaler()\n",
    "train_X_all = sc_X.fit_transform(train_X_all)\n",
    "test_X_all= sc_X.transform(test_X_all)\n",
    "sc_y = StandardScaler()\n",
    "train_y_all = sc_y.fit_transform(np.array(train_y_all).reshape(-1,1))"
   ]
  },
  {
   "cell_type": "code",
   "execution_count": 6,
   "metadata": {},
   "outputs": [],
   "source": [
    "# Splitting the dataset into the Training set and Val set\n",
    "from sklearn.model_selection import train_test_split\n",
    "X_train, X_val, y_train, y_val = train_test_split(train_X_all, train_y_all, test_size = 0.2, random_state = 42)"
   ]
  },
  {
   "cell_type": "code",
   "execution_count": 7,
   "metadata": {},
   "outputs": [
    {
     "name": "stdout",
     "output_type": "stream",
     "text": [
      "0.9349390482371889 of training \n",
      "0.9121112007145826 of test \n"
     ]
    }
   ],
   "source": [
    "# Fitting Polynomial Regression with Lasso regularization to the dataset\n",
    "from sklearn.linear_model import Lasso\n",
    "from sklearn.preprocessing import PolynomialFeatures\n",
    "\n",
    "#fitting the polynomial feature on x_train and x_test\n",
    "poly_feature = PolynomialFeatures(degree = 2)\n",
    "X_poly_train = poly_feature.fit_transform(X_train)\n",
    "\n",
    "X_poly_val = poly_feature.transform(X_val)\n",
    "\n",
    "#creating and fitting the model\n",
    "lasso_reg = Lasso(alpha=0.03,max_iter=500,selection='random')\n",
    "lasso_reg.fit(X_poly_train, y_train)\n",
    "    \n",
    "#prining the accuracy    \n",
    "print(lasso_reg.score(X_poly_train,y_train),end=' of training \\n')\n",
    "print(lasso_reg.score(X_poly_val,y_val),end=' of test \\n')"
   ]
  },
  {
   "cell_type": "code",
   "execution_count": 8,
   "metadata": {},
   "outputs": [],
   "source": [
    "#creating the test set data frame\n",
    "test_results=pd.DataFrame()\n",
    "\n",
    "#predicting the x_test and save it by 'lasso_reg'\n",
    "X_poly_test = poly_feature.transform(test_X_all)\n",
    "y_pred_test = lasso_reg.predict(X_poly_test)\n",
    "y_pred_test = sc_y.inverse_transform(y_pred_test)\n",
    "test_results['Lasso_Reg']=y_pred_test"
   ]
  },
  {
   "cell_type": "code",
   "execution_count": 9,
   "metadata": {},
   "outputs": [
    {
     "name": "stdout",
     "output_type": "stream",
     "text": [
      "0.9544894494008079 of training \n",
      "0.8548641574936939 of test\n"
     ]
    }
   ],
   "source": [
    "# Fitting Polynomial Regression with Lasso regularization to the dataset\n",
    "from sklearn.linear_model import Ridge\n",
    "from sklearn.preprocessing import PolynomialFeatures\n",
    "\n",
    "#fitting the polynomial feature on x_train and x_test\n",
    "poly_feature = PolynomialFeatures(degree = 2)\n",
    "X_poly_train = poly_feature.fit_transform(X_train)\n",
    "\n",
    "X_poly_val = poly_feature.transform(X_val)\n",
    "\n",
    "#creating and fitting the model\n",
    "ridge_reg = Ridge(alpha=1000,max_iter=5000)\n",
    "ridge_reg.fit(X_poly_train, y_train)\n",
    "    \n",
    "\n",
    "#prining the accuracy       \n",
    "print(ridge_reg.score(X_poly_train,y_train),end=' of training \\n')\n",
    "print(ridge_reg.score(X_poly_val,y_val),end=' of test\\n')"
   ]
  },
  {
   "cell_type": "code",
   "execution_count": 10,
   "metadata": {},
   "outputs": [],
   "source": [
    "#predicting the x_test and save it by 'ridge_reg'\n",
    "X_poly_test = poly_feature.transform(test_X_all)\n",
    "y_pred_test = ridge_reg.predict(X_poly_test)\n",
    "y_pred_test = sc_y.inverse_transform(y_pred_test)\n",
    "test_results['Ridge_REG']=y_pred_test"
   ]
  },
  {
   "cell_type": "code",
   "execution_count": 11,
   "metadata": {},
   "outputs": [
    {
     "name": "stderr",
     "output_type": "stream",
     "text": [
      "C:\\Users\\mohaiko\\Anaconda3\\lib\\site-packages\\sklearn\\utils\\validation.py:761: DataConversionWarning: A column-vector y was passed when a 1d array was expected. Please change the shape of y to (n_samples, ), for example using ravel().\n",
      "  y = column_or_1d(y, warn=True)\n"
     ]
    },
    {
     "name": "stdout",
     "output_type": "stream",
     "text": [
      "0.9669303363887591 of training \n",
      "0.781069973871967 of test\n"
     ]
    }
   ],
   "source": [
    "from sklearn.svm import SVR\n",
    "\n",
    "#fitting the support vector regresseor with rbf kernel\n",
    "svr_reg_rbf = SVR(kernel = 'rbf',C=2.5,epsilon=0.01,max_iter=10000,gamma='auto')\n",
    "svr_reg_rbf.fit(X_train, y_train)\n",
    "\n",
    "\n",
    "#prining the accuracy    \n",
    "print(svr_reg_rbf.score(X_train,y_train),end=' of training \\n')\n",
    "print(svr_reg_rbf.score(X_val,y_val),end=' of test\\n')"
   ]
  },
  {
   "cell_type": "code",
   "execution_count": 12,
   "metadata": {},
   "outputs": [],
   "source": [
    "#predicting the x_test and save it by 'SVR_RBF'\n",
    "y_pred_test=svr_reg_rbf.predict(test_X_all)\n",
    "y_pred_test=sc_y.inverse_transform(y_pred_test)\n",
    "test_results['SVR_RBF']=y_pred_test"
   ]
  },
  {
   "cell_type": "code",
   "execution_count": 13,
   "metadata": {},
   "outputs": [
    {
     "name": "stderr",
     "output_type": "stream",
     "text": [
      "C:\\Users\\mohaiko\\Anaconda3\\lib\\site-packages\\sklearn\\utils\\validation.py:761: DataConversionWarning: A column-vector y was passed when a 1d array was expected. Please change the shape of y to (n_samples, ), for example using ravel().\n",
      "  y = column_or_1d(y, warn=True)\n"
     ]
    },
    {
     "name": "stdout",
     "output_type": "stream",
     "text": [
      "0.9505613701824808 of training \n",
      "0.879369490436807 of test\n"
     ]
    }
   ],
   "source": [
    "from sklearn.svm import SVR\n",
    "\n",
    "#fitting the support vector regresseor with poly kernel\n",
    "svr_reg_poly = SVR(kernel = 'poly',C=1,epsilon=0.01,max_iter=10000,gamma='auto',degree=3)\n",
    "svr_reg_poly.fit(X_train, y_train)\n",
    "\n",
    "#prining the accuracy      \n",
    "print(svr_reg_poly.score(X_train,y_train),end=' of training \\n')\n",
    "print(svr_reg_poly.score(X_val,y_val),end=' of test\\n')"
   ]
  },
  {
   "cell_type": "code",
   "execution_count": 14,
   "metadata": {},
   "outputs": [],
   "source": [
    "#predicting the x_test and save it by 'SVR_POLy'\n",
    "y_pred_test=svr_reg_poly.predict(test_X_all)\n",
    "y_pred_test=sc_y.inverse_transform(y_pred_test)\n",
    "test_results['SVR_Poly']=y_pred_test"
   ]
  },
  {
   "cell_type": "code",
   "execution_count": 15,
   "metadata": {},
   "outputs": [
    {
     "name": "stderr",
     "output_type": "stream",
     "text": [
      "C:\\Users\\mohaiko\\Anaconda3\\lib\\site-packages\\ipykernel_launcher.py:6: DataConversionWarning: A column-vector y was passed when a 1d array was expected. Please change the shape of y to (n_samples,), for example using ravel().\n",
      "  \n"
     ]
    },
    {
     "name": "stdout",
     "output_type": "stream",
     "text": [
      "0.9767352443469731 of training \n",
      "0.8776300317085606 of test\n"
     ]
    }
   ],
   "source": [
    "from sklearn.ensemble import RandomForestRegressor\n",
    "\n",
    "#fitting the Random forest ensemble\n",
    "\n",
    "reg_rand_frst = RandomForestRegressor(n_estimators = 100, random_state = 42)\n",
    "reg_rand_frst.fit(X_train, y_train)\n",
    "\n",
    "print(reg_rand_frst.score(X_train,y_train),end=' of training \\n')\n",
    "print(reg_rand_frst.score(X_val,y_val),end=' of test\\n')"
   ]
  },
  {
   "cell_type": "code",
   "execution_count": 16,
   "metadata": {},
   "outputs": [],
   "source": [
    "#predicting the x_test and save it by 'Random_forest'\n",
    "y_pred_test=reg_rand_frst.predict(test_X_all)\n",
    "y_pred_test=sc_y.inverse_transform(y_pred_test)\n",
    "test_results['Random_forest']=y_pred_test"
   ]
  },
  {
   "cell_type": "code",
   "execution_count": 17,
   "metadata": {},
   "outputs": [],
   "source": [
    "#calculating the mean of the outputs of all models\n",
    "test_results['median_res']=test_results.median(axis=1)"
   ]
  },
  {
   "cell_type": "code",
   "execution_count": 19,
   "metadata": {},
   "outputs": [
    {
     "data": {
      "text/html": [
       "<div>\n",
       "<style scoped>\n",
       "    .dataframe tbody tr th:only-of-type {\n",
       "        vertical-align: middle;\n",
       "    }\n",
       "\n",
       "    .dataframe tbody tr th {\n",
       "        vertical-align: top;\n",
       "    }\n",
       "\n",
       "    .dataframe thead th {\n",
       "        text-align: right;\n",
       "    }\n",
       "</style>\n",
       "<table border=\"1\" class=\"dataframe\">\n",
       "  <thead>\n",
       "    <tr style=\"text-align: right;\">\n",
       "      <th></th>\n",
       "      <th>Lasso_Reg</th>\n",
       "      <th>Ridge_REG</th>\n",
       "      <th>SVR_RBF</th>\n",
       "      <th>SVR_Poly</th>\n",
       "      <th>Random_forest</th>\n",
       "      <th>median_res</th>\n",
       "    </tr>\n",
       "  </thead>\n",
       "  <tbody>\n",
       "    <tr>\n",
       "      <th>0</th>\n",
       "      <td>120195.611632</td>\n",
       "      <td>109645.935379</td>\n",
       "      <td>123143.516034</td>\n",
       "      <td>128725.019643</td>\n",
       "      <td>132951.000000</td>\n",
       "      <td>123143.516034</td>\n",
       "    </tr>\n",
       "    <tr>\n",
       "      <th>1</th>\n",
       "      <td>164516.663643</td>\n",
       "      <td>156699.184916</td>\n",
       "      <td>162920.064156</td>\n",
       "      <td>161510.873961</td>\n",
       "      <td>159655.000000</td>\n",
       "      <td>161510.873961</td>\n",
       "    </tr>\n",
       "    <tr>\n",
       "      <th>2</th>\n",
       "      <td>165493.487036</td>\n",
       "      <td>169823.068548</td>\n",
       "      <td>195617.359274</td>\n",
       "      <td>168736.539558</td>\n",
       "      <td>153657.614286</td>\n",
       "      <td>168736.539558</td>\n",
       "    </tr>\n",
       "    <tr>\n",
       "      <th>3</th>\n",
       "      <td>173462.693213</td>\n",
       "      <td>178740.692869</td>\n",
       "      <td>202173.140200</td>\n",
       "      <td>170390.676594</td>\n",
       "      <td>177939.000000</td>\n",
       "      <td>177939.000000</td>\n",
       "    </tr>\n",
       "    <tr>\n",
       "      <th>4</th>\n",
       "      <td>208567.429514</td>\n",
       "      <td>176163.083934</td>\n",
       "      <td>191133.969652</td>\n",
       "      <td>177209.929440</td>\n",
       "      <td>201048.000000</td>\n",
       "      <td>191133.969652</td>\n",
       "    </tr>\n",
       "    <tr>\n",
       "      <th>5</th>\n",
       "      <td>165591.465728</td>\n",
       "      <td>168978.797515</td>\n",
       "      <td>177390.894327</td>\n",
       "      <td>170401.946071</td>\n",
       "      <td>191407.750000</td>\n",
       "      <td>170401.946071</td>\n",
       "    </tr>\n",
       "    <tr>\n",
       "      <th>6</th>\n",
       "      <td>167531.858836</td>\n",
       "      <td>168332.705082</td>\n",
       "      <td>184070.754340</td>\n",
       "      <td>166031.521055</td>\n",
       "      <td>179500.700000</td>\n",
       "      <td>168332.705082</td>\n",
       "    </tr>\n",
       "    <tr>\n",
       "      <th>7</th>\n",
       "      <td>153531.873910</td>\n",
       "      <td>159279.368739</td>\n",
       "      <td>161100.339686</td>\n",
       "      <td>167540.696157</td>\n",
       "      <td>171206.340000</td>\n",
       "      <td>161100.339686</td>\n",
       "    </tr>\n",
       "    <tr>\n",
       "      <th>8</th>\n",
       "      <td>202615.576847</td>\n",
       "      <td>181527.865356</td>\n",
       "      <td>194606.429439</td>\n",
       "      <td>170428.210538</td>\n",
       "      <td>184588.450000</td>\n",
       "      <td>184588.450000</td>\n",
       "    </tr>\n",
       "    <tr>\n",
       "      <th>9</th>\n",
       "      <td>122481.403322</td>\n",
       "      <td>148791.516603</td>\n",
       "      <td>135167.928711</td>\n",
       "      <td>133722.929299</td>\n",
       "      <td>118521.330000</td>\n",
       "      <td>133722.929299</td>\n",
       "    </tr>\n",
       "  </tbody>\n",
       "</table>\n",
       "</div>"
      ],
      "text/plain": [
       "       Lasso_Reg      Ridge_REG        SVR_RBF       SVR_Poly  Random_forest  \\\n",
       "0  120195.611632  109645.935379  123143.516034  128725.019643  132951.000000   \n",
       "1  164516.663643  156699.184916  162920.064156  161510.873961  159655.000000   \n",
       "2  165493.487036  169823.068548  195617.359274  168736.539558  153657.614286   \n",
       "3  173462.693213  178740.692869  202173.140200  170390.676594  177939.000000   \n",
       "4  208567.429514  176163.083934  191133.969652  177209.929440  201048.000000   \n",
       "5  165591.465728  168978.797515  177390.894327  170401.946071  191407.750000   \n",
       "6  167531.858836  168332.705082  184070.754340  166031.521055  179500.700000   \n",
       "7  153531.873910  159279.368739  161100.339686  167540.696157  171206.340000   \n",
       "8  202615.576847  181527.865356  194606.429439  170428.210538  184588.450000   \n",
       "9  122481.403322  148791.516603  135167.928711  133722.929299  118521.330000   \n",
       "\n",
       "      median_res  \n",
       "0  123143.516034  \n",
       "1  161510.873961  \n",
       "2  168736.539558  \n",
       "3  177939.000000  \n",
       "4  191133.969652  \n",
       "5  170401.946071  \n",
       "6  168332.705082  \n",
       "7  161100.339686  \n",
       "8  184588.450000  \n",
       "9  133722.929299  "
      ]
     },
     "execution_count": 19,
     "metadata": {},
     "output_type": "execute_result"
    }
   ],
   "source": [
    "test_results.head(10)"
   ]
  },
  {
   "cell_type": "code",
   "execution_count": 20,
   "metadata": {},
   "outputs": [],
   "source": [
    "test_sub=pd.read_csv('sample_submission.csv')"
   ]
  },
  {
   "cell_type": "code",
   "execution_count": 21,
   "metadata": {},
   "outputs": [],
   "source": [
    "test_sub['SalePrice']=test_results['median_res']"
   ]
  },
  {
   "cell_type": "code",
   "execution_count": 22,
   "metadata": {},
   "outputs": [
    {
     "data": {
      "text/html": [
       "<div>\n",
       "<style scoped>\n",
       "    .dataframe tbody tr th:only-of-type {\n",
       "        vertical-align: middle;\n",
       "    }\n",
       "\n",
       "    .dataframe tbody tr th {\n",
       "        vertical-align: top;\n",
       "    }\n",
       "\n",
       "    .dataframe thead th {\n",
       "        text-align: right;\n",
       "    }\n",
       "</style>\n",
       "<table border=\"1\" class=\"dataframe\">\n",
       "  <thead>\n",
       "    <tr style=\"text-align: right;\">\n",
       "      <th></th>\n",
       "      <th>Id</th>\n",
       "      <th>SalePrice</th>\n",
       "    </tr>\n",
       "  </thead>\n",
       "  <tbody>\n",
       "    <tr>\n",
       "      <th>0</th>\n",
       "      <td>1461</td>\n",
       "      <td>123143.516034</td>\n",
       "    </tr>\n",
       "    <tr>\n",
       "      <th>1</th>\n",
       "      <td>1462</td>\n",
       "      <td>161510.873961</td>\n",
       "    </tr>\n",
       "    <tr>\n",
       "      <th>2</th>\n",
       "      <td>1463</td>\n",
       "      <td>168736.539558</td>\n",
       "    </tr>\n",
       "    <tr>\n",
       "      <th>3</th>\n",
       "      <td>1464</td>\n",
       "      <td>177939.000000</td>\n",
       "    </tr>\n",
       "    <tr>\n",
       "      <th>4</th>\n",
       "      <td>1465</td>\n",
       "      <td>191133.969652</td>\n",
       "    </tr>\n",
       "    <tr>\n",
       "      <th>5</th>\n",
       "      <td>1466</td>\n",
       "      <td>170401.946071</td>\n",
       "    </tr>\n",
       "    <tr>\n",
       "      <th>6</th>\n",
       "      <td>1467</td>\n",
       "      <td>168332.705082</td>\n",
       "    </tr>\n",
       "    <tr>\n",
       "      <th>7</th>\n",
       "      <td>1468</td>\n",
       "      <td>161100.339686</td>\n",
       "    </tr>\n",
       "    <tr>\n",
       "      <th>8</th>\n",
       "      <td>1469</td>\n",
       "      <td>184588.450000</td>\n",
       "    </tr>\n",
       "    <tr>\n",
       "      <th>9</th>\n",
       "      <td>1470</td>\n",
       "      <td>133722.929299</td>\n",
       "    </tr>\n",
       "  </tbody>\n",
       "</table>\n",
       "</div>"
      ],
      "text/plain": [
       "     Id      SalePrice\n",
       "0  1461  123143.516034\n",
       "1  1462  161510.873961\n",
       "2  1463  168736.539558\n",
       "3  1464  177939.000000\n",
       "4  1465  191133.969652\n",
       "5  1466  170401.946071\n",
       "6  1467  168332.705082\n",
       "7  1468  161100.339686\n",
       "8  1469  184588.450000\n",
       "9  1470  133722.929299"
      ]
     },
     "execution_count": 22,
     "metadata": {},
     "output_type": "execute_result"
    }
   ],
   "source": [
    "test_sub.head(10)"
   ]
  },
  {
   "cell_type": "code",
   "execution_count": 23,
   "metadata": {},
   "outputs": [],
   "source": [
    "test_sub.to_csv('result.csv',index=False)"
   ]
  },
  {
   "cell_type": "code",
   "execution_count": null,
   "metadata": {},
   "outputs": [],
   "source": []
  },
  {
   "cell_type": "code",
   "execution_count": null,
   "metadata": {},
   "outputs": [],
   "source": []
  }
 ],
 "metadata": {
  "kernelspec": {
   "display_name": "Python 3",
   "language": "python",
   "name": "python3"
  },
  "language_info": {
   "codemirror_mode": {
    "name": "ipython",
    "version": 3
   },
   "file_extension": ".py",
   "mimetype": "text/x-python",
   "name": "python",
   "nbconvert_exporter": "python",
   "pygments_lexer": "ipython3",
   "version": "3.7.3"
  }
 },
 "nbformat": 4,
 "nbformat_minor": 2
}
